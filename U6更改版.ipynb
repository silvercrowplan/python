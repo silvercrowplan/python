{
 "cells": [
  {
   "cell_type": "code",
   "execution_count": 8,
   "metadata": {},
   "outputs": [
    {
     "name": "stdout",
     "output_type": "stream",
     "text": [
      "       groups  ironmen\n",
      "0  Modern Web     59.0\n",
      "1      DevOps      9.0\n",
      "2         NaN     19.0\n",
      "3       Cloud      NaN\n",
      "4    Big Data     14.0\n",
      "5    Security      6.0\n",
      "6       自我挑戰組     77.0\n",
      "----------\n",
      "0    False\n",
      "1    False\n",
      "2     True\n",
      "3    False\n",
      "4    False\n",
      "5    False\n",
      "6    False\n",
      "Name: groups, dtype: bool\n",
      "----------\n",
      "0     True\n",
      "1     True\n",
      "2     True\n",
      "3    False\n",
      "4     True\n",
      "5     True\n",
      "6     True\n",
      "Name: ironmen, dtype: bool\n"
     ]
    }
   ],
   "source": [
    "import numpy as np\n",
    "import pandas as pd\n",
    "groups=[\"Modern Web\",\"DevOps\",np.nan,\"Cloud\",\"Big Data\",\"Security\",\"自我挑戰組\"]\n",
    "ironmen=[59,9,19,np.nan,14,6,77]\n",
    "ironmen_dict={\"groups\":groups,\"ironmen\":ironmen}\n",
    "ironmen_df=pd.DataFrame(ironmen_dict)\n",
    "print(ironmen_df)\n",
    "print(\"----------\")\n",
    "print(ironmen_df.loc[:,\"groups\"].isnull())#判斷哪些組名是遺失值(空值)\n",
    "print(\"----------\")\n",
    "print(ironmen_df.loc[:,\"ironmen\"].notnull())#判斷哪些組名不是遺失值(空值)"
   ]
  },
  {
   "cell_type": "code",
   "execution_count": 11,
   "metadata": {},
   "outputs": [
    {
     "name": "stdout",
     "output_type": "stream",
     "text": [
      "2    NaN\n",
      "Name: groups, dtype: object\n",
      "----------\n",
      "0    59.0\n",
      "1     9.0\n",
      "2    19.0\n",
      "4    14.0\n",
      "5     6.0\n",
      "6    77.0\n",
      "Name: ironmen, dtype: float64\n"
     ]
    }
   ],
   "source": [
    "print(ironmen_df.groups[ironmen_df.loc[:,\"groups\"].isnull()])#列出是空值的列\n",
    "print(\"----------\")\n",
    "print(ironmen_df.ironmen[ironmen_df.loc[:,\"ironmen\"].notnull()])#列出不是空值"
   ]
  },
  {
   "cell_type": "code",
   "execution_count": 20,
   "metadata": {},
   "outputs": [
    {
     "name": "stdout",
     "output_type": "stream",
     "text": [
      "       groups  ironmen\n",
      "0  Modern Web     59.0\n",
      "1      DevOps      9.0\n",
      "4    Big Data     14.0\n",
      "5    Security      6.0\n",
      "6       自我挑戰組     77.0\n",
      "----------\n",
      "       groups  ironmen\n",
      "0  Modern Web     59.0\n",
      "1      DevOps      9.0\n",
      "2           0     19.0\n",
      "3       Cloud      0.0\n",
      "4    Big Data     14.0\n",
      "5    Security      6.0\n",
      "6       自我挑戰組     77.0\n",
      "----------\n",
      "       groups  ironmen\n",
      "0  Modern Web     59.0\n",
      "1      DevOps      9.0\n",
      "2         NaN     19.0\n",
      "3       Cloud     71.0\n",
      "4    Big Data     14.0\n",
      "5    Security      6.0\n",
      "6       自我挑戰組     77.0\n"
     ]
    }
   ],
   "source": [
    "#print(ironmen_df)\n",
    "ironmen_df_dropped=ironmen_df.dropna()\n",
    "print(ironmen_df_dropped)#刪除空值\n",
    "print(\"----------\")\n",
    "ironmen_df_filled=ironmen_df.fillna(0)\n",
    "print(ironmen_df_filled)#空值補上0\n",
    "print(\"----------\")\n",
    "ironmen_df_fillvalue=ironmen_df.fillna({\"group\":\"Cloud\",\"ironmen\":71})\n",
    "print(ironmen_df_fillvalue)#把空值補上東西"
   ]
  },
  {
   "cell_type": "code",
   "execution_count": null,
   "metadata": {},
   "outputs": [],
   "source": []
  }
 ],
 "metadata": {
  "kernelspec": {
   "display_name": "Python 3",
   "language": "python",
   "name": "python3"
  },
  "language_info": {
   "codemirror_mode": {
    "name": "ipython",
    "version": 3
   },
   "file_extension": ".py",
   "mimetype": "text/x-python",
   "name": "python",
   "nbconvert_exporter": "python",
   "pygments_lexer": "ipython3",
   "version": "3.7.4"
  }
 },
 "nbformat": 4,
 "nbformat_minor": 2
}
