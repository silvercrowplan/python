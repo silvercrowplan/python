{
 "cells": [
  {
   "cell_type": "markdown",
   "metadata": {},
   "source": [
    "# 第四張 :Python物件\n",
    "\n",
    "## list :串列[]\n",
    "\n",
    "## Tuple:不能跟新的串列\n",
    "\n",
    "## Dict:有鍵值得串列{}\n"
   ]
  },
  {
   "cell_type": "markdown",
   "metadata": {},
   "source": [
    "### List:串列"
   ]
  },
  {
   "cell_type": "code",
   "execution_count": 7,
   "metadata": {},
   "outputs": [
    {
     "name": "stdout",
     "output_type": "stream",
     "text": [
      "[]\n",
      "[]\n",
      "['python', 'js', 'SOL']\n",
      "python\n",
      "js\n",
      "SOL\n"
     ]
    }
   ],
   "source": [
    "my_list0=[]\n",
    "my_list1 =list()\n",
    "my_list2 =['python','js','SOL']\n",
    "print(my_list0)\n",
    "print(my_list1)\n",
    "print(my_list2)\n",
    "print(my_list2[0])\n",
    "print(my_list2[1])\n",
    "print(my_list2[2])"
   ]
  },
  {
   "cell_type": "markdown",
   "metadata": {},
   "source": [
    "# 附加於最後"
   ]
  },
  {
   "cell_type": "code",
   "execution_count": 4,
   "metadata": {},
   "outputs": [
    {
     "name": "stdout",
     "output_type": "stream",
     "text": [
      "java\n",
      "4\n",
      "6\n"
     ]
    }
   ],
   "source": [
    "my_list2=['python','js','SOL']\n",
    "my_list2.append('java')\n",
    "print(my_list2[3])\n",
    "#長度len()\n",
    "print(len(my_list2))\n",
    "print(len(my_list2[0]))\n"
   ]
  },
  {
   "cell_type": "markdown",
   "metadata": {},
   "source": [
    "# 新增至特定位置"
   ]
  },
  {
   "cell_type": "code",
   "execution_count": 3,
   "metadata": {},
   "outputs": [
    {
     "name": "stdout",
     "output_type": "stream",
     "text": [
      "['java', 'python', 'js', 'SOL']\n"
     ]
    }
   ],
   "source": [
    "my_list3=['python','js','SOL']\n",
    "my_list3.insert(0,'java')\n",
    "print(my_list3)"
   ]
  },
  {
   "cell_type": "markdown",
   "metadata": {},
   "source": [
    "# 刪除"
   ]
  },
  {
   "cell_type": "code",
   "execution_count": 5,
   "metadata": {},
   "outputs": [
    {
     "name": "stdout",
     "output_type": "stream",
     "text": [
      "['pythonl', 'js', 'SOL']\n",
      "['pythonl', 'js']\n"
     ]
    }
   ],
   "source": [
    "my_list4=['Java','pythonl','js','SOL']\n",
    "del my_list4[0]\n",
    "print(my_list4)\n",
    "del my_list4[-1]\n",
    "print(my_list4)"
   ]
  },
  {
   "cell_type": "markdown",
   "metadata": {},
   "source": [
    "# 檢查是否存在"
   ]
  },
  {
   "cell_type": "code",
   "execution_count": 6,
   "metadata": {},
   "outputs": [
    {
     "name": "stdout",
     "output_type": "stream",
     "text": [
      "True\n",
      "False\n"
     ]
    }
   ],
   "source": [
    "my_list4=['Java','pythonl','js','SOL']\n",
    "print('Java' in my_list4)\n",
    "print('go' in my_list4)"
   ]
  },
  {
   "cell_type": "markdown",
   "metadata": {},
   "source": [
    "# 串列重複"
   ]
  },
  {
   "cell_type": "code",
   "execution_count": 9,
   "metadata": {},
   "outputs": [
    {
     "name": "stdout",
     "output_type": "stream",
     "text": [
      "[1, 2, 1, 2, 1, 2, 1, 2, 1, 2]\n"
     ]
    }
   ],
   "source": [
    "a=[1,2]\n",
    "print(a*5)"
   ]
  },
  {
   "cell_type": "code",
   "execution_count": 13,
   "metadata": {},
   "outputs": [
    {
     "name": "stdout",
     "output_type": "stream",
     "text": [
      "[1, 2, 3]\n",
      "[1, 3, 5, 7, 9]\n",
      "[1, 2, 3, 4, 5, 6, 7]\n",
      "1\n",
      "7\n",
      "0\n",
      "1\n",
      "[7, 6, 5, 4, 3, 2, 1]\n",
      "[1, 2, 3, 4, 5, 6, 7]\n"
     ]
    }
   ],
   "source": [
    "a=[1,2,3,4,5,6,7,8,9]\n",
    "b=a[0:3] #範圍讀取\n",
    "print(b)\n",
    "c=a[0:9:2] #間隔取值\n",
    "print(c)\n",
    "del a[7:9] #刪除陣列某範圍值\n",
    "print(a)\n",
    "print(min(a)) #陣列最小值\n",
    "print(max(a)) #陣列最大值\n",
    "print(a.index(1))\n",
    "print(a.count(1))\n",
    "a.reverse()\n",
    "print(a)\n",
    "a.sort()\n",
    "print(a)"
   ]
  },
  {
   "cell_type": "markdown",
   "metadata": {},
   "source": [
    "## Tuple(元組)\n",
    "tuple(元祖)可視為不可改變的陣列，tuple跟list很像，但是我們不能新增，刪除或是跟新tiple的元素，tuple的好處有:\n",
    "    1.占用較少空間\n",
    "    2.可當作dictionary(字典)的鍵值\n",
    "    3.可當作函式引數"
   ]
  },
  {
   "cell_type": "code",
   "execution_count": 12,
   "metadata": {},
   "outputs": [
    {
     "name": "stdout",
     "output_type": "stream",
     "text": [
      "('python', 'js', 'SOl')\n",
      "('gp', 'c#', 'vb')\n",
      "gp\n"
     ]
    }
   ],
   "source": [
    "a_tuple=('python','js','SOl')\n",
    "print(a_tuple)\n",
    "b_list=['gp','c#','vb']\n",
    "b_tuple=tuple(b_list)\n",
    "print(b_tuple)\n",
    "print(b_tuple[0])"
   ]
  },
  {
   "cell_type": "markdown",
   "metadata": {},
   "source": [
    "# 字典(dictionary -dict)為帶有鍵值(key)得串列(list)"
   ]
  },
  {
   "cell_type": "code",
   "execution_count": 4,
   "metadata": {},
   "outputs": [
    {
     "name": "stdout",
     "output_type": "stream",
     "text": [
      "python\n",
      "3.7\n",
      "python\n",
      "java\n",
      "SQL\n",
      "{'name': 'python', 'version': '3.7'}\n",
      "dict_keys(['name', 'version'])\n",
      "dict_values(['python', '3.7'])\n",
      "dict_items([('name', 'python'), ('version', '3.7')])\n",
      "True\n"
     ]
    }
   ],
   "source": [
    "la ={}\n",
    "la ={'name' :'python','version':'3.7'} #索引直(鍵直)可以自訂\n",
    "print(la['name'])\n",
    "print(la['version'])\n",
    "a={0:'python',1:'java',2:'SQL'}\n",
    "print(a[0])\n",
    "print(a[1])\n",
    "print(a[2])\n",
    "print(la)\n",
    "print(la.keys())\n",
    "print(la.values())\n",
    "print(la.items())\n",
    "print('name'in la)"
   ]
  },
  {
   "cell_type": "code",
   "execution_count": 5,
   "metadata": {},
   "outputs": [
    {
     "name": "stdout",
     "output_type": "stream",
     "text": [
      "{'name': 'python', 'version': '3.7'}\n",
      "{'name': 'python', 'version': '3.7'}\n",
      "{}\n",
      "python\n",
      "python\n",
      "{'name': 'java', 'version': '3.7'}\n"
     ]
    }
   ],
   "source": [
    "a ={'name' :'python','version':'3.7'}\n",
    "print(a)\n",
    "b=a.copy()\n",
    "print(b)\n",
    "b.clear()\n",
    "print(b)\n",
    "print(a['name'])\n",
    "print(a.get('name'))\n",
    "a.update({'name': 'java'})\n",
    "print(a)"
   ]
  },
  {
   "cell_type": "code",
   "execution_count": null,
   "metadata": {},
   "outputs": [],
   "source": []
  }
 ],
 "metadata": {
  "kernelspec": {
   "display_name": "Python 3",
   "language": "python",
   "name": "python3"
  },
  "language_info": {
   "codemirror_mode": {
    "name": "ipython",
    "version": 3
   },
   "file_extension": ".py",
   "mimetype": "text/x-python",
   "name": "python",
   "nbconvert_exporter": "python",
   "pygments_lexer": "ipython3",
   "version": "3.7.4"
  }
 },
 "nbformat": 4,
 "nbformat_minor": 2
}
