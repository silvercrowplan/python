{
 "cells": [
  {
   "cell_type": "markdown",
   "metadata": {},
   "source": [
    "lterator\n",
    "#python的lterator允許物件進行分次處理\n",
    "#通常會呼叫iter定義lrerator物件,搭配next函式進行下一個值呼叫"
   ]
  },
  {
   "cell_type": "code",
   "execution_count": 9,
   "metadata": {},
   "outputs": [
    {
     "name": "stdout",
     "output_type": "stream",
     "text": [
      "1\n",
      "2\n",
      "3\n",
      "4\n"
     ]
    }
   ],
   "source": [
    "list=[1,2,3,4]\n",
    "for i in list:\n",
    "    print(i)"
   ]
  },
  {
   "cell_type": "code",
   "execution_count": 10,
   "metadata": {},
   "outputs": [
    {
     "name": "stdout",
     "output_type": "stream",
     "text": [
      "1\n",
      "2\n",
      "3\n",
      "4\n"
     ]
    }
   ],
   "source": [
    "list=[1,2,3,4]\n",
    "list_i=iter(list)\n",
    "print(next(list_i))\n",
    "print(next(list_i))\n",
    "print(next(list_i))\n",
    "print(next(list_i))"
   ]
  },
  {
   "cell_type": "markdown",
   "metadata": {},
   "source": [
    "#自訂iterator"
   ]
  },
  {
   "cell_type": "code",
   "execution_count": 69,
   "metadata": {},
   "outputs": [
    {
     "name": "stdout",
     "output_type": "stream",
     "text": [
      "1\n",
      "2\n",
      "3\n",
      "4\n"
     ]
    }
   ],
   "source": [
    "class numbers:\n",
    "    a=1\n",
    "    def __iter__ (get):#兩條小底線，不是一條\n",
    "        return get\n",
    "    def __next__ (get):\n",
    "        x=get.a\n",
    "        get.a+=1\n",
    "        return x\n",
    "my_n=numbers()\n",
    "print(next(my_n))\n",
    "print(next(my_n))\n",
    "print(next(my_n))\n",
    "print(next(my_n))"
   ]
  },
  {
   "cell_type": "markdown",
   "metadata": {},
   "source": [
    "費氏數列"
   ]
  },
  {
   "cell_type": "code",
   "execution_count": 73,
   "metadata": {},
   "outputs": [
    {
     "name": "stdout",
     "output_type": "stream",
     "text": [
      "1\n",
      "2\n",
      "4\n",
      "8\n",
      "16\n",
      "32\n",
      "64\n",
      "128\n",
      "256\n",
      "512\n"
     ]
    }
   ],
   "source": [
    "class face:#我打的\n",
    "    def __init__(get):\n",
    "        get.a=0\n",
    "        get.b=1\n",
    "    def __iter__(get):\n",
    "        return get\n",
    "    def __next__(get):\n",
    "        get.a=get.b\n",
    "        get.b=get.a+get.b\n",
    "        return get.a\n",
    "x=face()\n",
    "for i in range(10):\n",
    "    print(next(x))"
   ]
  },
  {
   "cell_type": "code",
   "execution_count": 67,
   "metadata": {},
   "outputs": [
    {
     "name": "stdout",
     "output_type": "stream",
     "text": [
      "1\n",
      "1\n",
      "2\n",
      "3\n",
      "5\n",
      "8\n",
      "13\n",
      "21\n",
      "34\n",
      "55\n"
     ]
    }
   ],
   "source": [
    "class Fib: #老師範例                                       \n",
    "    def __init__(self):                      \n",
    "        self.a, self.b = 0, 1\n",
    "    def __iter__(self):                           \n",
    "        return self\n",
    "    def __next__(self):                                        \n",
    "        self.a, self.b = self.b, self.a + self.b\n",
    "        return self.a\n",
    "a=Fib()  \n",
    "for i in range(10):\n",
    "  print(next(a))"
   ]
  },
  {
   "cell_type": "code",
   "execution_count": null,
   "metadata": {},
   "outputs": [],
   "source": []
  },
  {
   "cell_type": "code",
   "execution_count": null,
   "metadata": {},
   "outputs": [],
   "source": []
  },
  {
   "cell_type": "code",
   "execution_count": null,
   "metadata": {},
   "outputs": [],
   "source": []
  }
 ],
 "metadata": {
  "kernelspec": {
   "display_name": "Python 3",
   "language": "python",
   "name": "python3"
  },
  "language_info": {
   "codemirror_mode": {
    "name": "ipython",
    "version": 3
   },
   "file_extension": ".py",
   "mimetype": "text/x-python",
   "name": "python",
   "nbconvert_exporter": "python",
   "pygments_lexer": "ipython3",
   "version": "3.6.10"
  }
 },
 "nbformat": 4,
 "nbformat_minor": 2
}
